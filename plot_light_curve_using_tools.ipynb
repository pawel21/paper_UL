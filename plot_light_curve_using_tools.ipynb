{
 "cells": [
  {
   "cell_type": "code",
   "execution_count": null,
   "id": "d56127e2",
   "metadata": {},
   "outputs": [],
   "source": [
    "import glob\n",
    "import matplotlib.pyplot as plt\n",
    "from tools import plot_ligh_curve, plot_light_curve_ratio\n",
    "\n",
    "plt.rcParams.update({'font.size': 20})"
   ]
  },
  {
   "cell_type": "markdown",
   "id": "722e8793",
   "metadata": {},
   "source": [
    "# 3c454.3"
   ]
  },
  {
   "cell_type": "code",
   "execution_count": null,
   "id": "605b41da",
   "metadata": {},
   "outputs": [],
   "source": [
    "# %matplotlib qt\n",
    "output_flute_file_list_1 = sorted(glob.glob(\"3c454.3/an_pawel/Output_fl*\"))\n",
    "output_flute_file_list_2 = sorted(glob.glob(\"3c454.3/an_habib/Output_fl*\"))\n",
    "plot_ligh_curve(output_flute_file_list_1, output_flute_file_list_2)"
   ]
  },
  {
   "cell_type": "code",
   "execution_count": null,
   "id": "c7fa43a6",
   "metadata": {},
   "outputs": [],
   "source": [
    "%matplotlib inline\n",
    "output_flute_file_list_1 = sorted(glob.glob(\"3c454.3/an_pawel/Output_fl*01*\"))\n",
    "output_flute_file_list_2 = sorted(glob.glob(\"3c454.3/an_habib/Output_fl*01*\"))\n",
    "plot_light_curve_ratio(output_flute_file_list_1, output_flute_file_list_2, [55505, 55515])"
   ]
  },
  {
   "cell_type": "code",
   "execution_count": null,
   "id": "a9fa04a5",
   "metadata": {},
   "outputs": [],
   "source": [
    "%matplotlib inline\n",
    "output_flute_file_list_1 = sorted(glob.glob(\"3c454.3/an_pawel/Output_fl*06*\"))\n",
    "output_flute_file_list_2 = sorted(glob.glob(\"3c454.3/an_habib/Output_fl*06*\"))\n",
    "plot_light_curve_ratio(output_flute_file_list_1, output_flute_file_list_2, [57250, 57270])"
   ]
  },
  {
   "cell_type": "markdown",
   "id": "b29486b3",
   "metadata": {},
   "source": [
    "# TXS0025+197"
   ]
  },
  {
   "cell_type": "code",
   "execution_count": null,
   "id": "d3013253",
   "metadata": {},
   "outputs": [],
   "source": [
    "output_flute_file_list_1 = sorted(glob.glob(\"TXS0025+197/an_pawel/Output_fl*\"))\n",
    "output_flute_file_list_2 = sorted(glob.glob(\"TXS0025+197/an_habib/Output_fl*\"))\n",
    "plot_light_curve_ratio(output_flute_file_list_1, output_flute_file_list_2, [58700, 58900])"
   ]
  },
  {
   "cell_type": "code",
   "execution_count": null,
   "id": "259fc350",
   "metadata": {},
   "outputs": [],
   "source": [
    "plot_light_curve_ratio(output_flute_file_list_1, output_flute_file_list_2, [58725, 58735])"
   ]
  },
  {
   "cell_type": "code",
   "execution_count": null,
   "id": "8d17e58c",
   "metadata": {},
   "outputs": [],
   "source": [
    "plot_light_curve_ratio(output_flute_file_list_1, output_flute_file_list_2, [58725, 58735])"
   ]
  },
  {
   "cell_type": "code",
   "execution_count": null,
   "id": "a5d1d8e1",
   "metadata": {},
   "outputs": [],
   "source": []
  }
 ],
 "metadata": {
  "kernelspec": {
   "display_name": "Python 3",
   "language": "python",
   "name": "python3"
  },
  "language_info": {
   "codemirror_mode": {
    "name": "ipython",
    "version": 3
   },
   "file_extension": ".py",
   "mimetype": "text/x-python",
   "name": "python",
   "nbconvert_exporter": "python",
   "pygments_lexer": "ipython3",
   "version": "3.8.8"
  }
 },
 "nbformat": 4,
 "nbformat_minor": 5
}
