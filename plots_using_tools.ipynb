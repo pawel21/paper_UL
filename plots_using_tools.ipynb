{
 "cells": [
  {
   "cell_type": "code",
   "execution_count": null,
   "id": "d8976ad6",
   "metadata": {},
   "outputs": [],
   "source": [
    "from tools import plot_sed_ratio, read_foam_log_output"
   ]
  },
  {
   "cell_type": "code",
   "execution_count": null,
   "id": "e3609062",
   "metadata": {
    "scrolled": true
   },
   "outputs": [],
   "source": [
    "! ls"
   ]
  },
  {
   "cell_type": "markdown",
   "id": "ea8fcf8f",
   "metadata": {},
   "source": [
    "# 3c454.3"
   ]
  },
  {
   "cell_type": "code",
   "execution_count": null,
   "id": "9aa127f5",
   "metadata": {},
   "outputs": [],
   "source": [
    "plot_sed_ratio(\"3c454.3/an_habib/Output_foam.root\", \"3c454.3/an_pawel/Output_foam.root\")"
   ]
  },
  {
   "cell_type": "code",
   "execution_count": null,
   "id": "85e27a6f",
   "metadata": {},
   "outputs": [],
   "source": [
    "read_foam_log_output(\"3c454.3/an_habib/Log_foam.log\")"
   ]
  },
  {
   "cell_type": "code",
   "execution_count": null,
   "id": "e7e2f134",
   "metadata": {},
   "outputs": [],
   "source": [
    "read_foam_log_output(\"3c454.3/an_pawel/Log_foam.log\")"
   ]
  },
  {
   "cell_type": "markdown",
   "id": "50bc5388",
   "metadata": {},
   "source": [
    "# B220234+28"
   ]
  },
  {
   "cell_type": "code",
   "execution_count": null,
   "id": "dd3963a4",
   "metadata": {},
   "outputs": [],
   "source": [
    "! ls B220234+28/an_habib"
   ]
  },
  {
   "cell_type": "markdown",
   "id": "b669ff74",
   "metadata": {},
   "source": [
    "# B2-2234+28A\t"
   ]
  },
  {
   "cell_type": "code",
   "execution_count": null,
   "id": "4a17fc76",
   "metadata": {},
   "outputs": [],
   "source": [
    "! ls B2-2234+28A/an_habib"
   ]
  },
  {
   "cell_type": "code",
   "execution_count": null,
   "id": "e935a95b",
   "metadata": {},
   "outputs": [],
   "source": [
    "plot_sed_ratio(\"B2-2234+28A/an_habib/Output_foam.root\", \"B2-2234+28A/an_pawel/Output_foam.root\")"
   ]
  },
  {
   "cell_type": "markdown",
   "id": "4611aaf0",
   "metadata": {},
   "source": [
    "# CTA102"
   ]
  },
  {
   "cell_type": "code",
   "execution_count": null,
   "id": "73c46b42",
   "metadata": {},
   "outputs": [],
   "source": [
    "plot_sed_ratio(\"CTA102/an_habib/Output_foam.root\", \"CTA102/an_pawel/Output_foam.root\")"
   ]
  },
  {
   "cell_type": "markdown",
   "id": "686e1ce4",
   "metadata": {},
   "source": [
    "# OP313"
   ]
  },
  {
   "cell_type": "code",
   "execution_count": null,
   "id": "397bdafc",
   "metadata": {},
   "outputs": [],
   "source": [
    "plot_sed_ratio(\"OP313/an_habib/Output_foam.root\", \"OP313/an_pawel/Output_foam.root\")"
   ]
  },
  {
   "cell_type": "markdown",
   "id": "28bf6dbe",
   "metadata": {},
   "source": [
    "# TXS0025+197"
   ]
  },
  {
   "cell_type": "code",
   "execution_count": null,
   "id": "9d5cb979",
   "metadata": {},
   "outputs": [],
   "source": [
    "plot_sed_ratio(\"TXS0025+197/an_habib/Output_foam.root\", \"TXS0025+197/an_pawel/Output_foam.root\")"
   ]
  },
  {
   "cell_type": "markdown",
   "id": "f8bb1803",
   "metadata": {},
   "source": [
    "# TXS2241"
   ]
  },
  {
   "cell_type": "code",
   "execution_count": null,
   "id": "994d9f41",
   "metadata": {},
   "outputs": [],
   "source": [
    "plot_sed_ratio(\"TXS2241/an_habib/Output_foam.root\", \"TXS2241/an_pawel/Output_foam.root\")"
   ]
  },
  {
   "cell_type": "code",
   "execution_count": null,
   "id": "90081c86",
   "metadata": {},
   "outputs": [],
   "source": []
  }
 ],
 "metadata": {
  "kernelspec": {
   "display_name": "Python 3",
   "language": "python",
   "name": "python3"
  },
  "language_info": {
   "codemirror_mode": {
    "name": "ipython",
    "version": 3
   },
   "file_extension": ".py",
   "mimetype": "text/x-python",
   "name": "python",
   "nbconvert_exporter": "python",
   "pygments_lexer": "ipython3",
   "version": "3.8.8"
  }
 },
 "nbformat": 4,
 "nbformat_minor": 5
}
